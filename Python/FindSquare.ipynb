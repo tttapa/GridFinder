{
 "cells": [
  {
   "cell_type": "code",
   "execution_count": null,
   "metadata": {
    "scrolled": false
   },
   "outputs": [],
   "source": [
    "%matplotlib notebook\n",
    "\n",
    "import cv2\n",
    "import numpy as np\n",
    "import matplotlib.pyplot as plt\n",
    "import py_grid_finder as gr\n",
    "from math import cos, sin\n",
    "\n",
    "# video = cv2.VideoCapture(\"../Video/DroneCam.mp4\")\n",
    "video = cv2.VideoCapture(\"../Video/easy.mp4\")\n",
    "# for i in range(142):\n",
    "# for i in range(235):\n",
    "for i in range(322):\n",
    "    result, image = video.read()\n",
    "\n",
    "# result, image = cv2.VideoCapture(\"../Images/TestWorstCase.png\").read()\n",
    "\n",
    "assert(result)\n",
    "# image = cv2.flip(image, 0)\n",
    "hsv = cv2.cvtColor(image, cv2.COLOR_BGR2HSV)\n",
    "image = cv2.cvtColor(image, cv2.COLOR_BGR2RGB)\n",
    "\n",
    "lower_red1 = np.array([0, 30, 0])\n",
    "upper_red1 = np.array([10, 255, 255])\n",
    "mask1 = cv2.inRange(hsv, lower_red1, upper_red1)\n",
    "\n",
    "lower_red2 = np.array([170, 30, 0])\n",
    "upper_red2 = np.array([180, 255, 255])\n",
    "mask2 = cv2.inRange(hsv, lower_red2, upper_red2)\n",
    "\n",
    "mask = mask1 | mask2\n",
    "plt.imshow(mask)\n",
    "plt.show()\n"
   ]
  },
  {
   "cell_type": "code",
   "execution_count": null,
   "metadata": {},
   "outputs": [],
   "source": [
    "gf = gr.GridFinder(mask)\n",
    "square = gf.findSquare()\n",
    "\n",
    "def showLine(line, color, name='', image=image):\n",
    "    # print(line.getLineCenter())\n",
    "    # print(line.getAngle())\n",
    "    # print(line.getWidth())\n",
    "    if line:\n",
    "        print(line)\n",
    "        p1 = (line.getLineCenter().x, line.getLineCenter().y)\n",
    "        p2 = (line.getLineCenter().x + int(2 * 410 * cos(line.getAngle())), \n",
    "              line.getLineCenter().y + int(2 * 410 * sin(line.getAngle())))\n",
    "        cv2.line(image, p1, p2, color, 2)\n",
    "        font = cv2.FONT_HERSHEY_TRIPLEX\n",
    "        xoffset = round (12*cos(line.getAngle()))\n",
    "        yoffset = round (12*sin(line.getAngle()))\n",
    "        xoffset += 16 if cos(line.getAngle()) > 0 else -32\n",
    "        yoffset += 32 if sin(line.getAngle()) > 0 else -16\n",
    "        cv2.putText(image, str(name), (line.getLineCenter().x + xoffset, line.getLineCenter().y + yoffset),\n",
    "                    font, 0.8, color, 1, cv2.LINE_4)\n",
    "\n",
    "showLine(square.lines[0], (0, 80, 255), '1a')\n",
    "showLine(square.lines[1], (0, 200, 255), '1b')\n",
    "showLine(square.lines[2], (0, 255, 0), '2')\n",
    "showLine(square.lines[3], (255, 255, 0), '3')\n",
    "showLine(square.lines[4], (255, 150, 0), '4')\n",
    "\n",
    "for point in square.points:\n",
    "    if point:\n",
    "        point = (round(point.x), round(point.y))\n",
    "        print(point)\n",
    "        cv2.circle(image, point, 3, (255, 0, 0), -1)\n",
    "\n",
    "plt.figure()\n",
    "plt.imshow(image)\n",
    "plt.show()\n",
    "cv2.imwrite('out.png', cv2.cvtColor(image, cv2.COLOR_BGR2RGB));"
   ]
  },
  {
   "cell_type": "code",
   "execution_count": null,
   "metadata": {
    "scrolled": false
   },
   "outputs": [],
   "source": [
    "gf = gr.GridFinder(mask)\n",
    "print(gf.getMaskMatrixCpp())"
   ]
  }
 ],
 "metadata": {
  "kernelspec": {
   "display_name": "Python 3",
   "language": "python",
   "name": "python3"
  },
  "language_info": {
   "codemirror_mode": {
    "name": "ipython",
    "version": 3
   },
   "file_extension": ".py",
   "mimetype": "text/x-python",
   "name": "python",
   "nbconvert_exporter": "python",
   "pygments_lexer": "ipython3",
   "version": "3.7.3"
  }
 },
 "nbformat": 4,
 "nbformat_minor": 2
}
