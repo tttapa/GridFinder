{
 "cells": [
  {
   "cell_type": "code",
   "execution_count": 1,
   "metadata": {
    "scrolled": false
   },
   "outputs": [
    {
     "ename": "SyntaxError",
     "evalue": "invalid syntax (<ipython-input-1-ebf194ee5903>, line 31)",
     "output_type": "error",
     "traceback": [
      "\u001b[0;36m  File \u001b[0;32m\"<ipython-input-1-ebf194ee5903>\"\u001b[0;36m, line \u001b[0;32m31\u001b[0m\n\u001b[0;31m    n_rows =\u001b[0m\n\u001b[0m             ^\u001b[0m\n\u001b[0;31mSyntaxError\u001b[0m\u001b[0;31m:\u001b[0m invalid syntax\n"
     ]
    }
   ],
   "source": [
    "# %matplotlib notebook\n",
    "\n",
    "import cv2\n",
    "import numpy as np\n",
    "import matplotlib.pyplot as plt\n",
    "\n",
    "video = cv2.VideoCapture(\"../Video/easy.mp4\")\n",
    "result, image = video.read()\n",
    "assert(result)\n",
    "hsv = cv2.cvtColor(image, cv2.COLOR_BGR2HSV)\n",
    "image = cv2.cvtColor(image, cv2.COLOR_BGR2RGB)\n",
    "plt.imshow(image);\n",
    "plt.figure()\n",
    "\n",
    "lower_red1 = np.array([0, 30, 0])\n",
    "upper_red1 = np.array([10, 255, 255])\n",
    "mask1 = cv2.inRange(hsv, lower_red1, upper_red1)\n",
    "\n",
    "lower_red2 = np.array([170, 30, 0])\n",
    "upper_red2 = np.array([180, 255, 255])\n",
    "mask2 = cv2.inRange(hsv, lower_red2, upper_red2)\n",
    "\n",
    "mask = mask1 + mask2\n",
    "plt.imshow(np.array(mask))\n",
    "\n",
    "plt.show()\n",
    "\n",
    "cv2.imwrite('image.png', mask)\n",
    "\n",
    "def find_start_pixel(img, col):\n",
    "    n_rows = \n",
    "    first_white = -1\n",
    "    for pxl in img[:,col]:\n",
    "        if pxl != 0:\n",
    "            if first_white < 0:\n",
    "                first_white = \n",
    "\n",
    "find_start_pixel(mask, np.shape(mask)[1] // 2)\n",
    "\n"
   ]
  },
  {
   "cell_type": "code",
   "execution_count": null,
   "metadata": {},
   "outputs": [],
   "source": []
  }
 ],
 "metadata": {
  "kernelspec": {
   "display_name": "Python 3",
   "language": "python",
   "name": "python3"
  },
  "language_info": {
   "codemirror_mode": {
    "name": "ipython",
    "version": 3
   },
   "file_extension": ".py",
   "mimetype": "text/x-python",
   "name": "python",
   "nbconvert_exporter": "python",
   "pygments_lexer": "ipython3",
   "version": "3.6.8"
  }
 },
 "nbformat": 4,
 "nbformat_minor": 2
}
